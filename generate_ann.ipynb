{
 "cells": [
  {
   "cell_type": "code",
   "execution_count": 1,
   "metadata": {},
   "outputs": [],
   "source": [
    "from neat import NEAT\n",
    "from phenotype import genome_to_network"
   ]
  },
  {
   "cell_type": "code",
   "execution_count": 2,
   "metadata": {},
   "outputs": [],
   "source": [
    "neat = NEAT(3, 2)"
   ]
  },
  {
   "cell_type": "code",
   "execution_count": 3,
   "metadata": {},
   "outputs": [],
   "source": [
    "pop = neat.create_initial_population(3)"
   ]
  },
  {
   "cell_type": "code",
   "execution_count": 4,
   "metadata": {},
   "outputs": [
    {
     "data": {
      "text/plain": [
       "{'nodes': [<genotype.NodeGene at 0x7f4c2c746050>,\n",
       "  <genotype.NodeGene at 0x7f4c2c745fc0>,\n",
       "  <genotype.NodeGene at 0x7f4c2c7462f0>,\n",
       "  <genotype.NodeGene at 0x7f4c2c746260>,\n",
       "  <genotype.NodeGene at 0x7f4c2c7463b0>],\n",
       " 'connections': [<genotype.ConnectionGene at 0x7f4c2c746350>,\n",
       "  <genotype.ConnectionGene at 0x7f4c2c746470>,\n",
       "  <genotype.ConnectionGene at 0x7f4c2c746440>,\n",
       "  <genotype.ConnectionGene at 0x7f4c2c746530>,\n",
       "  <genotype.ConnectionGene at 0x7f4c2c7464d0>,\n",
       "  <genotype.ConnectionGene at 0x7f4c2c7465f0>],\n",
       " 'fitness': None}"
      ]
     },
     "execution_count": 4,
     "metadata": {},
     "output_type": "execute_result"
    }
   ],
   "source": [
    "neat.population[0].__dict__"
   ]
  },
  {
   "cell_type": "code",
   "execution_count": 8,
   "metadata": {},
   "outputs": [
    {
     "data": {
      "text/plain": [
       "(<PjitFunction of <function genome_to_network.<locals>.forward at 0x7f4c285a9480>>,\n",
       " {'input_weights': Array([], dtype=float32),\n",
       "  'hidden_weights': Array([], dtype=float32),\n",
       "  'output_weights': Array([], dtype=float32)})"
      ]
     },
     "execution_count": 8,
     "metadata": {},
     "output_type": "execute_result"
    }
   ],
   "source": [
    "genome_to_network(neat.population[2])"
   ]
  }
 ],
 "metadata": {
  "kernelspec": {
   "display_name": "Python 3",
   "language": "python",
   "name": "python3"
  },
  "language_info": {
   "codemirror_mode": {
    "name": "ipython",
    "version": 3
   },
   "file_extension": ".py",
   "mimetype": "text/x-python",
   "name": "python",
   "nbconvert_exporter": "python",
   "pygments_lexer": "ipython3",
   "version": "3.10.6"
  },
  "orig_nbformat": 4,
  "vscode": {
   "interpreter": {
    "hash": "916dbcbb3f70747c44a77c7bcd40155683ae19c65e1c03b4aa3499c5328201f1"
   }
  }
 },
 "nbformat": 4,
 "nbformat_minor": 2
}
